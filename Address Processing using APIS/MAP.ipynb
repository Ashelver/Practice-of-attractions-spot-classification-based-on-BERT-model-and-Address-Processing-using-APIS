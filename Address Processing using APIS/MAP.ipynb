{
 "cells": [
  {
   "cell_type": "code",
   "execution_count": 1,
   "metadata": {},
   "outputs": [],
   "source": [
    "import pandas as pd\n",
    "import urllib\n",
    "import requests\n",
    "import json\n",
    "# path = 'Location.json'\n",
    "path = r'香港\\马蜂窝\\香港地址翻译数据.json'\n",
    "data = pd.read_json(path)\n"
   ]
  },
  {
   "cell_type": "code",
   "execution_count": 2,
   "metadata": {},
   "outputs": [],
   "source": [
    "# 高德api\n",
    "# 地理编码url\n",
    "geocode_url = 'https://restapi.amap.com/v3/geocode/geo?'\n",
    "\n",
    "# 逆地理编码url\n",
    "regeo_url = 'https://restapi.amap.com/v3/geocode/regeo?'\n",
    "# api_key = info.key\n",
    "api_key = 'f264e734216dce2dbb00c524a679e357'\n"
   ]
  },
  {
   "cell_type": "code",
   "execution_count": 4,
   "metadata": {},
   "outputs": [],
   "source": [
    "# country = '新加坡'\n",
    "province = '香港特别行政区'\n",
    "\n",
    "addresses = []\n",
    "for index,row in data.iterrows():\n",
    "    proaddress = row['processed_address']\n",
    "    oriaddress = row['original_address']\n",
    "    hotel = row['Hotel']\n",
    "    # print(address)\n",
    "    params = {\"key\":api_key,\n",
    "              \"address\":proaddress,\n",
    "              # \"country\":country,\n",
    "              \"province\":province\n",
    "              }\n",
    "    response = requests.get('https://restapi.amap.com/v3/geocode/geo?parameters', params=params)\n",
    "    # api返回的数据\n",
    "    res = json.loads(response.content.decode())\n",
    "    if res['status'] == '1':\n",
    "        address = res['geocodes']\n",
    "    else:\n",
    "        address = 'empty'\n",
    "    temp = {}\n",
    "    temp['Name'] = hotel\n",
    "    temp['original_address'] = oriaddress\n",
    "    temp['processed_address'] = proaddress\n",
    "    temp['formatted_address'] = address\n",
    "    addresses.append(temp)\n",
    "\n",
    "with open('香港地址处理数据.json', 'w', encoding='utf-8') as fp:\n",
    "    json.dump(addresses, fp=fp, ensure_ascii=False,indent=2)\n",
    "\n",
    "\n",
    "    \n"
   ]
  }
 ],
 "metadata": {
  "kernelspec": {
   "display_name": "Python 3",
   "language": "python",
   "name": "python3"
  },
  "language_info": {
   "codemirror_mode": {
    "name": "ipython",
    "version": 3
   },
   "file_extension": ".py",
   "mimetype": "text/x-python",
   "name": "python",
   "nbconvert_exporter": "python",
   "pygments_lexer": "ipython3",
   "version": "3.10.11"
  },
  "orig_nbformat": 4
 },
 "nbformat": 4,
 "nbformat_minor": 2
}
